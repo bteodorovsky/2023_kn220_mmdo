{
 "cells": [
  {
   "attachments": {},
   "cell_type": "markdown",
   "metadata": {},
   "source": [
    "### Основні типи даних в Python"
   ]
  },
  {
   "attachments": {},
   "cell_type": "markdown",
   "metadata": {},
   "source": [
    "> `string` - стрічковий тип данних (але в Пайтоні все є обєктами!). Будь-яка стрічкова змінна є обєктом класу `str`."
   ]
  },
  {
   "cell_type": "code",
   "execution_count": null,
   "metadata": {},
   "outputs": [],
   "source": [
    "a = \"This\"\n",
    "b = ' is '\n",
    "c = \"\"\"\n",
    "string.\n",
    "Written in Python.\n",
    "\"\"\"\n",
    "d = str(21)\n",
    "concatination_example = a + b + c.capitalize() + d\n",
    "\n",
    "print(concatination_example, \"\\n\", type(d), \"\\n\", concatination_example.count(\"t\"))"
   ]
  },
  {
   "attachments": {},
   "cell_type": "markdown",
   "metadata": {},
   "source": [
    "> `numeric` - тут є декілька типів числових даних, наприклад цілі числа `int` та числа з плаваючою корапкою `float`."
   ]
  },
  {
   "cell_type": "code",
   "execution_count": null,
   "metadata": {},
   "outputs": [],
   "source": [
    "i = 12\n",
    "print(i, type(i))\n",
    "\n",
    "f = 12.6\n",
    "print(f, type(f))\n",
    "\n",
    "print(\"Примусово перетворюю int y float:\", type(float(i)))\n",
    "print(\"І навпаки float y int:\", type(int(f)))\n",
    "\n",
    "print(\"Переводимо в двійкову, вісікову та шістнадцяткову форму:\", \n",
    "        bin(i), \n",
    "        oct(i), \n",
    "        hex(i), \n",
    "        \"Та рахуємо кількість одиниць:\", \n",
    "        i.bit_count())\n"
   ]
  },
  {
   "attachments": {},
   "cell_type": "markdown",
   "metadata": {},
   "source": [
    "> `Sequence` - послідовні типи даних, або набори даних. До них відносяться `list` та `tuple`."
   ]
  },
  {
   "cell_type": "code",
   "execution_count": null,
   "metadata": {},
   "outputs": [],
   "source": [
    "l = [a, i, f, [\"List\", \"in\", \"list\"], \"and final sting\"]\n",
    "print(l, type(l))\n",
    "print(\"Виводжу перший елемент в списку по його індексу 0:\",l[0])\n",
    "print(\"Виводжу останні елемент:\", l[-1])\n",
    "print(\"Виводжу слайс:\", l[1:3])\n",
    "print(\"Виводжу елементи з вкладеного списку:\", l[3][1])\n",
    "\n",
    "l.append(\"New final element\")\n",
    "print(l)\n",
    "l.pop(-2)\n",
    "print(l)"
   ]
  },
  {
   "cell_type": "code",
   "execution_count": null,
   "metadata": {},
   "outputs": [],
   "source": [
    "import math\n",
    "print(math.pi)\n",
    "p = math.pi\n",
    "t = (a, p, i, f, [\"List\", \"in\", \"list\"], \"and final sting\")\n",
    "\n",
    "print(t, type(t))\n",
    "\n",
    "\n",
    "p = 2.13\n",
    "print(\"Я перевизначив змінну P в якій була констанні Пі\", p)\n",
    "#t[1] = p # Це виведе помилку, бо Tuple змінювати не можна!\n",
    "\n",
    "print(t)"
   ]
  },
  {
   "cell_type": "code",
   "execution_count": null,
   "metadata": {},
   "outputs": [],
   "source": [
    "import numpy as np\n",
    "print(type(math.pi))\n",
    "\n",
    "l = list([1, 2, 3])\n",
    "np_l = np.array(l)\n",
    "print(f\"Маємо тип {type(l)} зі значенями {l} а якщо застосувати бібліотеку numpy буде {type(np_l)} із значеннями {np_l}\")"
   ]
  },
  {
   "attachments": {},
   "cell_type": "markdown",
   "metadata": {},
   "source": [
    "`Mapping` - типи мади які ставлять у відповідність ключ значення, до них належать `dict`"
   ]
  },
  {
   "cell_type": "code",
   "execution_count": null,
   "metadata": {},
   "outputs": [],
   "source": [
    "a = \"key\"\n",
    "b = \"b\"\n",
    "d = {\"ключ\": \"значення\", \"key\": \"value\", 0: \"Це не нульовий елемент\", 'a': a, b: [a, b]}\n",
    "print(f\"\"\"Доступаємось до елементів словника: \n",
    "||| {d['ключ']} \n",
    "||| {d[0]}\n",
    "||| {d['a']} \n",
    "||| {d[a]}\n",
    "||| {d[\"b\"]}\n",
    "\"\"\")"
   ]
  },
  {
   "attachments": {},
   "cell_type": "markdown",
   "metadata": {},
   "source": [
    "`set type` - до них відноситься тип даних `set`"
   ]
  },
  {
   "cell_type": "code",
   "execution_count": null,
   "metadata": {},
   "outputs": [],
   "source": [
    "s = {\"a\", \"a\", \"b\", \"b\"}\n",
    "print(s, type(s))\n",
    "l = [1, 1, 2, 1, 2]\n",
    "s2 = set(l)\n",
    "print(f\"Був {type(l)} з {l.__len__()} елементами, став {type(s2)} з {len(s2)} елементами\")\n"
   ]
  },
  {
   "attachments": {},
   "cell_type": "markdown",
   "metadata": {},
   "source": [
    "### Вбудовані константи"
   ]
  },
  {
   "cell_type": "code",
   "execution_count": null,
   "metadata": {},
   "outputs": [],
   "source": [
    "a = True\n",
    "b = False\n",
    "true = True\n",
    "print(f\"Маю змінну true яка дуже похожа до константи {true}\")\n",
    "c = None\n",
    "print(type(c))\n",
    "\n",
    "def my_fun(a=None):\n",
    "    return a\n",
    "print(my_fun(\"Я передав значення у функцію\"))"
   ]
  },
  {
   "attachments": {},
   "cell_type": "markdown",
   "metadata": {},
   "source": [
    "### Вбудовані функції"
   ]
  },
  {
   "cell_type": "code",
   "execution_count": null,
   "metadata": {},
   "outputs": [],
   "source": [
    "a = [1, 2, 3]\n",
    "b = [\"a\", \"b\", \"c\"]\n",
    "c = [\"-\", \"+\", \"=\"]\n",
    "print(list(zip(a,b,c)))\n",
    "print((a[0],b[0],c[0]))\n",
    "\n",
    "print(oct(12), hex(14))\n",
    "\n",
    "print(f\"Змінна {a} є обєктом класу {type(a)} та має ID {id(a)}\")\n",
    "a = [1, 2, 3]\n",
    "print(f\"Змінна {a} є обєктом класу {type(a)} та має ID {id(a)}\")\n",
    "a.append(\"wq\")\n",
    "print(id(a))"
   ]
  },
  {
   "attachments": {},
   "cell_type": "markdown",
   "metadata": {},
   "source": [
    "### Цикли"
   ]
  },
  {
   "attachments": {},
   "cell_type": "markdown",
   "metadata": {},
   "source": [
    "> Ітераційні цикли"
   ]
  },
  {
   "cell_type": "code",
   "execution_count": null,
   "metadata": {},
   "outputs": [],
   "source": [
    "i = 0\n",
    "while i < 10:\n",
    "    print(i)\n",
    "    i+=2\n",
    "print(f\"Кінцеве значення {i}\")\n",
    "\n",
    "N = range(0, 10, 2)\n",
    "print(f\"Значення по яких будемо ітерувати: {list(N)}\")\n",
    "\n",
    "for i in N:\n",
    "    print(i)\n",
    "print(f\"Кінцеве значення {i}\")"
   ]
  },
  {
   "attachments": {},
   "cell_type": "markdown",
   "metadata": {},
   "source": [
    "> Умовниі цикли"
   ]
  },
  {
   "cell_type": "code",
   "execution_count": null,
   "metadata": {},
   "outputs": [],
   "source": [
    "from random import randint\n",
    "\n",
    "print(10*\"#\", \"Приклад з while\", 10*\"#\")\n",
    "i = 0\n",
    "while randint(0, 10) < 8:\n",
    "    print(\"Згенерувалось випадкве число менше 8, продовжуємо.\")\n",
    "    i+=1\n",
    "print(f\"Цикл виконувався {i} разів\")\n",
    "\n",
    "while True:\n",
    "    i = randint(0, 10)\n",
    "    print(f\"Згенероване число {i}\")\n",
    "    if i > 8:\n",
    "        print(\"Згенероване число більше 8, зупиняємо цикл.\")\n",
    "        break\n",
    "\n",
    "print(10*\"#\", \"Приклад з for\", 10*\"#\")\n",
    "for _ in iter(int, 1):\n",
    "    i = randint(0, 10)\n",
    "    print(f\"Згенероване число {i}\")\n",
    "    if i > 8:\n",
    "        print(\"Згенероване число більше 8, зупиняємо цикл.\")\n",
    "        break\n"
   ]
  },
  {
   "cell_type": "code",
   "execution_count": null,
   "metadata": {},
   "outputs": [],
   "source": [
    "while True:\n",
    "    i = randint(0, 10)\n",
    "    print(f\"Ми зайшли в цикл з і = {i}\")\n",
    "    if i < 5:\n",
    "        print(\"Це виконається якщо і < 5, перескакуємо ітерацію\")\n",
    "        continue\n",
    "    \n",
    "    if i > 5:\n",
    "        print(\"Це виконається якщо і > 5, зупиняємо цикл\")\n",
    "        break\n",
    "    \n",
    "    print(\"Це виконається тільки при і = 5\")"
   ]
  },
  {
   "attachments": {},
   "cell_type": "markdown",
   "metadata": {},
   "source": [
    "### Розгалуження"
   ]
  },
  {
   "cell_type": "code",
   "execution_count": null,
   "metadata": {},
   "outputs": [],
   "source": [
    "a = randint(0, 9)\n",
    "if a > 8:\n",
    "    print(f\"a = {a}\")\n",
    "elif a == 5:\n",
    "    print(a)\n",
    "elif a == 6:\n",
    "    print(a)\n",
    "else:\n",
    "    print(f\"Значення а = {a}\")\n",
    "\n",
    "l, u, s = (0, 0, 0)\n",
    "\n",
    "for i in range(10):\n",
    "    a = randint(0, i)\n",
    "    print(f\"Випадково згенероване число в діапазоні [0, {i}]  = {a}\")\n",
    "    if a == 0:\n",
    "        print(\"Число є рівним нижній межі\")\n",
    "        l+=1 \n",
    "    elif a == i:\n",
    "        print(\"Число є рівним верхній межі\")\n",
    "        u+=1\n",
    "    else:\n",
    "        print(\"Число з середини діапазону\")\n",
    "        s+=1\n",
    "print(f\"Ми отримали {l} разів нижній діапазон, {u} разів верхній діапазон та {s} разів число з середини діапазону\")"
   ]
  },
  {
   "cell_type": "code",
   "execution_count": null,
   "metadata": {},
   "outputs": [],
   "source": [
    "play_game = False\n",
    "\n",
    "if play_game:\n",
    "    from random import randint\n",
    "    s = randint(0, 10)\n",
    "    print(\"Вгадай число від 0 до 10\")\n",
    "    while True:\n",
    "        a = input(\"Введіть число:\")\n",
    "        print(f\"Введене число {a}\")\n",
    "        b = int(a)\n",
    "        if isinstance(b, int):\n",
    "            if b > s:\n",
    "                print(\"Забагато\")\n",
    "            elif b < s:\n",
    "                print(\"Замало\")\n",
    "            else:\n",
    "                print(\"Вгадали!\")\n",
    "                break\n",
    "        else:\n",
    "            print(f\"{a} на є числом від 0 до 10\")"
   ]
  },
  {
   "attachments": {},
   "cell_type": "markdown",
   "metadata": {},
   "source": [
    "### OneLiner - це код написаний в одну стрічку.\n",
    "> можна робити для розгалужень"
   ]
  },
  {
   "cell_type": "code",
   "execution_count": null,
   "metadata": {},
   "outputs": [],
   "source": [
    "a = 4\n",
    "\n",
    "if a > 5:\n",
    "    b = a\n",
    "else:\n",
    "    b = 10\n",
    "\n",
    "c = a if a > 5 else 10\n",
    "\n",
    "print(f\"Значення змінної у першому випадку буде: {b} а у другому: {c}\")\n"
   ]
  },
  {
   "attachments": {},
   "cell_type": "markdown",
   "metadata": {},
   "source": [
    "> та для циклів це називається List Comprehension"
   ]
  },
  {
   "cell_type": "code",
   "execution_count": null,
   "metadata": {},
   "outputs": [],
   "source": [
    "l1 = []\n",
    "for i in range(1, 10):\n",
    "    l1.append(i**2)\n",
    "\n",
    "l2 = [ i**2 for i in range(1, 10) ]\n",
    "\n",
    "print(f\"Перший цикл: {l1} та результат другого циклу: {l2}\")\n",
    "\n",
    "import sys\n",
    "g = ( i**2 for i in range(1, 1000) )\n",
    "\n",
    "t2 = [ i for i in g ]\n",
    "print(f\"Отримали: {type(g)} і щоб вивести значення перетворили на список {type}\")\n",
    "\n",
    "print(f\"Генератор має розмір {sys.getsizeof(g)} байт а при перетворенні в ліст розмір буде: {sys.getsizeof(t2)} байт\")"
   ]
  },
  {
   "attachments": {},
   "cell_type": "markdown",
   "metadata": {},
   "source": [
    "### Виловлювання винятків в програмах"
   ]
  },
  {
   "cell_type": "code",
   "execution_count": null,
   "metadata": {},
   "outputs": [],
   "source": [
    "d = k + 10\n",
    "print(\"Це ніколи не виведеться\")"
   ]
  },
  {
   "cell_type": "code",
   "execution_count": null,
   "metadata": {},
   "outputs": [],
   "source": [
    "initializeVariable = False\n",
    "try:\n",
    "    if initializeVariable:\n",
    "        k = 100\n",
    "    print(\"Що буде якщо викличемо неініціалізовану змінну ?\")\n",
    "    d = k + 10\n",
    "    print(f\"Змінна була ініціалізована значенням {k} і результат {d}\")\n",
    "    del(k)\n",
    "except NameError as e:\n",
    "    print(f\"Буде от така помилка: {e}\")\n",
    "finally:\n",
    "    print(\"Цей блок виконається завжди!\")"
   ]
  },
  {
   "cell_type": "code",
   "execution_count": null,
   "metadata": {},
   "outputs": [],
   "source": [
    "d = {\"a\": 1, \"b\": 4}\n",
    "print(d[\"c\"])\n",
    "print(\"Це ніколи не виведеться\")"
   ]
  },
  {
   "cell_type": "code",
   "execution_count": null,
   "metadata": {},
   "outputs": [],
   "source": [
    "key = 'C'\n",
    "try:\n",
    "    print(f\"Що буде якщо доступитись до неіснуючого елемента {key} в словнику ?\")\n",
    "    print(d[key])\n",
    "except KeyError as e:\n",
    "    print(f\"Буде от така помилка: ключа {e} не існує\")"
   ]
  },
  {
   "cell_type": "code",
   "execution_count": null,
   "metadata": {},
   "outputs": [],
   "source": [
    "l = [1, 2]\n",
    "print(l[5])\n",
    "print(\"Це ніколи не виведеться\")"
   ]
  },
  {
   "cell_type": "code",
   "execution_count": null,
   "metadata": {},
   "outputs": [],
   "source": [
    "index = 3\n",
    "try:\n",
    "    print(f\"Що буде якщо доступитись до неіснуючого індекса {index}?\")\n",
    "    print(l[index])\n",
    "except IndexError as e:\n",
    "    print(f\"Буде от така помилка: {e}\")"
   ]
  },
  {
   "attachments": {},
   "cell_type": "markdown",
   "metadata": {},
   "source": [
    "### Робота з файлами"
   ]
  },
  {
   "cell_type": "code",
   "execution_count": null,
   "metadata": {},
   "outputs": [],
   "source": [
    "import os\n",
    "\n",
    "print(f\"Спочатку маємо такі файли: {os.listdir()}\")\n",
    "\n",
    "with open(\"test.txt\", \"w\") as f:\n",
    "    f.write(\"Hello\")\n",
    "\n",
    "with open(\"test.txt\", \"r\") as f:  \n",
    "    print(f.readline())\n",
    "\n",
    "print(f\"Після виконання програми маємо: {os.listdir()}\")\n",
    "os.remove(\"test.txt\")"
   ]
  },
  {
   "attachments": {},
   "cell_type": "markdown",
   "metadata": {},
   "source": [
    "### Функції та безіменні Lambdas"
   ]
  },
  {
   "cell_type": "code",
   "execution_count": null,
   "metadata": {},
   "outputs": [],
   "source": [
    "def myfun(x):\n",
    "    return f\"Квадрат величини {x}={x**2}\"\n",
    "\n",
    "l1 = myfun\n",
    "print(f\"Я викликаю функцію {type(l1)}: {l1(5)}\")\n",
    "\n",
    "l2 = lambda x: f\"Квадрат величини {x}={x**2}\"\n",
    "print(f\"Я можу це саме зробити з лямбдою {type(l2)}: {l2(5)}\")"
   ]
  }
 ],
 "metadata": {
  "kernelspec": {
   "display_name": "Python 3",
   "language": "python",
   "name": "python3"
  },
  "language_info": {
   "codemirror_mode": {
    "name": "ipython",
    "version": 3
   },
   "file_extension": ".py",
   "mimetype": "text/x-python",
   "name": "python",
   "nbconvert_exporter": "python",
   "pygments_lexer": "ipython3",
   "version": "3.11.0"
  },
  "orig_nbformat": 4,
  "vscode": {
   "interpreter": {
    "hash": "72b2382ece9768098284d92bbc69d35954e75b60d1e25897d1389c232f4796f0"
   }
  }
 },
 "nbformat": 4,
 "nbformat_minor": 2
}
