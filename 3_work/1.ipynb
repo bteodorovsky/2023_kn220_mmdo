{
 "cells": [
  {
   "attachments": {},
   "cell_type": "markdown",
   "metadata": {},
   "source": [
    "### Інсталюємо бібліотеку `Numpy`"
   ]
  },
  {
   "cell_type": "code",
   "execution_count": null,
   "metadata": {},
   "outputs": [],
   "source": [
    "%pip install numpy"
   ]
  },
  {
   "attachments": {},
   "cell_type": "markdown",
   "metadata": {},
   "source": [
    "### Починаємо роботу з `Numpy`\n",
    "> імпортуємо бібліотеку"
   ]
  },
  {
   "cell_type": "code",
   "execution_count": null,
   "metadata": {},
   "outputs": [],
   "source": [
    "import numpy as np"
   ]
  },
  {
   "attachments": {},
   "cell_type": "markdown",
   "metadata": {},
   "source": [
    "\n",
    "> вчимось основам використання масивів та їх порівняння з простими Python List"
   ]
  },
  {
   "cell_type": "code",
   "execution_count": null,
   "metadata": {},
   "outputs": [],
   "source": [
    "import sys\n",
    "l = [1, 2, 3, 6, 7, 8, 9, 12, 14, 16]\n",
    "print(f\"Маємо масив {type(l)} довжиною {len(l)} який займає в памяті {sys.getsizeof(l)} байти\")\n",
    "a = np.array(l)\n",
    "print(f\"Маємо Numpy масив {type(a)} довжиною {len(a)} який займає в памяті {sys.getsizeof(a)} байти\")\n",
    "\n",
    "print(\"Переконаємось що для великих розмірів Numpy краще використовую память компютера:\")\n",
    "l2 = list(range(65000, 150000))\n",
    "a2 = np.array(l2)\n",
    "print(f\"{type(l2)} займає в памяті {sys.getsizeof(l2)} байти,\\n{type(a2)} займає в памяті {sys.getsizeof(a2)} байти\")"
   ]
  },
  {
   "attachments": {},
   "cell_type": "markdown",
   "metadata": {},
   "source": [
    "> вчимось виконувати операції над масивами"
   ]
  },
  {
   "cell_type": "code",
   "execution_count": null,
   "metadata": {},
   "outputs": [],
   "source": [
    "items = [int(5), float(5), list([5]), np.array([5])]\n",
    "print(f\"Маємо {type(items)} з набором різних даних:\")\n",
    "for item in items:\n",
    "    print(f\"Маємо число {item} типу {type(item)}\")\n",
    "\n",
    "print(\"Покажемо як виконувати арифметичні операції:\")\n",
    "\n",
    "a = items[0] + items[1]\n",
    "print(f\"Результат {a} типу {type(a)}\")\n",
    "a = items[0] + items[2][0]\n",
    "print(f\"Результат {a} типу {type(a)}\")\n",
    "a = items[0] + items[-1]\n",
    "print(f\"Результат {a} типу {type(a)}. Зверніть увагу що нам не треба розкривати масив.\")\n",
    "\n",
    "print(\"Покажемо кращий приклад з масивами, де ми хочемо виконати (x * 5 + 6) над кожним елементом масиву:\")\n",
    "\n",
    "l = [1, 2, 3, 4, 5]\n",
    "n = np.array(l)\n",
    "\n",
    "a = [i * 5 + 6 for i in l]\n",
    "print(f\"Результат {a} типу {type(a)}\")\n",
    "a = n * 5 + 6\n",
    "print(f\"Результат {a} типу {type(a)}\")"
   ]
  },
  {
   "attachments": {},
   "cell_type": "markdown",
   "metadata": {},
   "source": [
    "### Виконаємо приклад з документації Nampy\n",
    "[Розв`яжемо приклад за формулою](https://numpy.org/doc/stable/user/absolute_beginners.html#working-with-mathematical-formulas)\n",
    "![formula](./formula.png)"
   ]
  },
  {
   "cell_type": "code",
   "execution_count": null,
   "metadata": {},
   "outputs": [],
   "source": [
    "from numpy.random import randint, random\n",
    "\n",
    "n = 2\n",
    "Y_prediction = np.array([2, 4]) #randint(1, 100, size=n) # Це є цілі числа\n",
    "Y = np.array([0.2, 0.6]) #random(size=n) # Це є числа з плаваючою крапкою від 0 до 1\n",
    "\n",
    "MSE = np.sum(np.square(Y_prediction - Y)) / n # Це наша формула\n",
    "\n",
    "print(f\"Якщо Y_prediction = {Y_prediction} та Y = {Y} то за формулою будемо мати: {MSE}\")\n",
    "\n",
    "\n",
    "print(\"А ось так воно виглядає чистим пайтоном:\")\n",
    "\n",
    "Y_prediction = [2, 4]\n",
    "Y = [0.2, 0.6]\n",
    "\n",
    "MSE = []\n",
    "for i in range(n):\n",
    "    MSE.append((Y_prediction[i] - Y[i])**2)\n",
    "\n",
    "MSE_final = sum(MSE) / n\n",
    "\n",
    "print(f\"Якщо Y_prediction = {Y_prediction} та Y = {Y} то за формулою будемо мати: {MSE} та результат {MSE_final}\")"
   ]
  },
  {
   "attachments": {},
   "cell_type": "markdown",
   "metadata": {},
   "source": [
    "### Методи створення масивів в Numpy\n",
    "> `range` VS `np.arange` - згенерувати послідовність чисел з певним кроком в діапазоні від Start-Stop"
   ]
  },
  {
   "cell_type": "code",
   "execution_count": null,
   "metadata": {},
   "outputs": [],
   "source": [
    "l = list(range(15))\n",
    "print(f\"Згенерували {type(l)} на {len(l)} елементів, де 0-й елемент {l[0]} та останній елемент {l[-1]}\")\n",
    "# звісно можемо просто перетворити попредній ліст в масив нампай\n",
    "a = np.array(l)\n",
    "print(f\"Згенерували {type(a)} на {len(a)} елементів, де 0-й елемент {a[0]} та останній елемент {a[-1]}\")\n",
    "# краще використовувати методи нампай\n",
    "n = np.arange(15)\n",
    "print(f\"Згенерували {type(n)} на {len(n)} елементів, де 0-й елемент {n[0]} та останній елемент {n[-1]}\")\n",
    "n2 = np.arange(10, 15, 2)\n",
    "print(f\"Оскільки останній лемент не враховується то будемо мати тільки {len(n2)} які є: {n2}\")\n",
    "n3 = np.arange(10, 14, 2)\n",
    "print(f\"Оскільки останній лемент не враховується то будемо мати тільки {len(n3)} які є: {n3}\")\n",
    "n4 = np.arange(10, 12, step=.2)\n",
    "print(f\"Якщо крок дробовий то буде {len(n4)} де 0-й елемент {n4[0]} та останній {n4[-1]} та можемо його округлити до 2-х знаків {np.round(n4[-1], 2)}\")"
   ]
  },
  {
   "attachments": {},
   "cell_type": "markdown",
   "metadata": {},
   "source": [
    "> `np.linspace` - генерує мавив якщо нам потрібно задана кількість елементів на проміжку"
   ]
  },
  {
   "cell_type": "code",
   "execution_count": null,
   "metadata": {},
   "outputs": [],
   "source": [
    "n = np.linspace(10, 12, num=20)\n",
    "print(f\"Згенерували {type(n)} на {len(n)} елементів, де 0-й елемент {n[0]} та останній елемент {n[-1]}\")\n",
    "print(f\"Подивимось на всі елементи масиву:\\n{n}\")\n",
    "print(f\"Спробуємо округлити до 3-х знаків:\\n{np.round(n, 3)}\")"
   ]
  },
  {
   "attachments": {},
   "cell_type": "markdown",
   "metadata": {},
   "source": [
    "### Візуальний приклад"
   ]
  },
  {
   "cell_type": "code",
   "execution_count": null,
   "metadata": {},
   "outputs": [],
   "source": [
    "%pip install matplotlib"
   ]
  },
  {
   "cell_type": "code",
   "execution_count": null,
   "metadata": {},
   "outputs": [],
   "source": [
    "import matplotlib.pyplot as plt"
   ]
  },
  {
   "cell_type": "code",
   "execution_count": 43,
   "metadata": {},
   "outputs": [
    {
     "name": "stdout",
     "output_type": "stream",
     "text": [
      "Але ми мали однакову кільксть елементів 20 = 20, Перший елемент ріний 10.0 = 10.0, Останній елемент не рівні 12.0 =/ 11.899999999999993\n"
     ]
    },
    {
     "data": {
      "image/png": "[encoded data removed]",
      "text/plain": [
       "<Figure size 640x480 with 1 Axes>"
      ]
     },
     "metadata": {},
     "output_type": "display_data"
    }
   ],
   "source": [
    "N = 20\n",
    "x = np.linspace(10, 12, num=N)\n",
    "y = np.linspace(20, 30, num=N)\n",
    "plt.plot(x, y, 'o', label=\"linspace\")\n",
    "\n",
    "x1 = np.arange(10, 12, step=.1)\n",
    "y1 = np.arange(20, 30, step=.5)\n",
    "\n",
    "plt.plot(x1, y1, 'o', label=\"arange\")\n",
    "print(f\"Але ми мали однакову кільксть елементів {len(x)} = {len(x1)}, Перший елемент ріний {x[0]} = {x1[0]}, Останній елемент не рівні {x[-1]} =/ {x1[-1]}\")\n",
    "\n",
    "plt.legend()\n",
    "plt.show()"
   ]
  }
 ],
 "metadata": {
  "kernelspec": {
   "display_name": "Python 3",
   "language": "python",
   "name": "python3"
  },
  "language_info": {
   "codemirror_mode": {
    "name": "ipython",
    "version": 3
   },
   "file_extension": ".py",
   "mimetype": "text/x-python",
   "name": "python",
   "nbconvert_exporter": "python",
   "pygments_lexer": "ipython3",
   "version": "3.11.0"
  },
  "orig_nbformat": 4
 },
 "nbformat": 4,
 "nbformat_minor": 2
}
