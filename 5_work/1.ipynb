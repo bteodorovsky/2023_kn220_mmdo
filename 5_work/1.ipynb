{
 "cells": [
  {
   "attachments": {},
   "cell_type": "markdown",
   "metadata": {},
   "source": [
    "### Формулюємо задачу лінійного програмування\n",
    "> максимізувати прибуток від продажу предметів на аукціоні у грі\n",
    "\n",
    "> ми знаємо вартість предметів та за скільки їх можна продати\n",
    "\n",
    "> ми можемо купити лімітова число предметів через обмеження вмістимості сумок\n",
    "\n",
    "> у нас є лімітова кількість золота на покупку предметів"
   ]
  },
  {
   "attachments": {},
   "cell_type": "markdown",
   "metadata": {},
   "source": [
    "### Задаємо початкові значення\n",
    "У нас зараз є 100 золотих монет та сумна на 20 слотів.\n",
    "\n",
    "\n",
    "|Предмет|Ціна купівлі|Ціна продажу|Скільки слотів займає|\n",
    "|---|---|---|---|\n",
    "|Міфрил (x)|4|5|2|\n",
    "|Опал (y)|10|12|1|"
   ]
  },
  {
   "attachments": {},
   "cell_type": "markdown",
   "metadata": {},
   "source": [
    "$$\n",
    "\\begin{aligned}\n",
    "\\max_{міфрил,опал} && (ЦінаПродажу-ЦінаКупівлі)*КількістьПредметів \\\\\n",
    "\\text{за умов} && КількістьПредметів*ЦінаКіпівні <= 100 золотих \\\\\n",
    "\\ && КількістьПредметів*КількістьСлотів <= 20 \\\\\n",
    "\\ && КількістьПредметів>=0\\\n",
    "\\end{aligned}\n",
    "$$"
   ]
  },
  {
   "cell_type": "code",
   "execution_count": 1,
   "metadata": {},
   "outputs": [
    {
     "name": "stdout",
     "output_type": "stream",
     "text": [
      "Requirement already satisfied: scipy in c:\\users\\admin\\appdata\\local\\programs\\python\\python310\\lib\\site-packages (1.10.1)\n",
      "Requirement already satisfied: numpy<1.27.0,>=1.19.5 in c:\\users\\admin\\appdata\\local\\programs\\python\\python310\\lib\\site-packages (from scipy) (1.23.3)\n",
      "Note: you may need to restart the kernel to use updated packages.\n"
     ]
    },
    {
     "name": "stderr",
     "output_type": "stream",
     "text": [
      "\n",
      "[notice] A new release of pip available: 22.3 -> 23.1.2\n",
      "[notice] To update, run: python.exe -m pip install --upgrade pip\n"
     ]
    }
   ],
   "source": [
    "%pip install scipy"
   ]
  },
  {
   "cell_type": "code",
   "execution_count": 2,
   "metadata": {},
   "outputs": [],
   "source": [
    "import numpy as np\n",
    "import matplotlib.pyplot as plt\n",
    "from scipy.optimize import linprog"
   ]
  },
  {
   "attachments": {},
   "cell_type": "markdown",
   "metadata": {},
   "source": [
    "### Приблизно знаходимо графічний розвязок"
   ]
  },
  {
   "cell_type": "code",
   "execution_count": 12,
   "metadata": {},
   "outputs": [
    {
     "data": {
      "text/plain": [
       "<matplotlib.legend.Legend at 0x203b1f88550>"
      ]
     },
     "execution_count": 12,
     "metadata": {},
     "output_type": "execute_result"
    },
    {
     "data": {
      "image/png": "[encoded data removed]",
      "text/plain": [
       "<Figure size 432x288 with 1 Axes>"
      ]
     },
     "metadata": {
      "needs_background": "light"
     },
     "output_type": "display_data"
    }
   ],
   "source": [
    "# x*4 + y*10 <= 100 золотих\n",
    "# x*2 + y*1 <= 20  слотів\n",
    "x = np.arange(0, 50, step=0.01)\n",
    "y1 = (100 - x*4)/10\n",
    "y2 = 20 - x*2\n",
    "plt.fill_between(x, y1, 0, where=y1>0, alpha=0.2, color='yellow', label='Золото')\n",
    "plt.fill_between(x, y2, 0, where=y2>0, alpha=0.2, color='blue', label='Кількість слотів')\n",
    "plt.xlabel(\"Міфрил\")\n",
    "plt.ylabel(\"Опал\")\n",
    "plt.legend()"
   ]
  },
  {
   "cell_type": "code",
   "execution_count": 13,
   "metadata": {},
   "outputs": [
    {
     "name": "stdout",
     "output_type": "stream",
     "text": [
      "Кількість Міфрилу: 6.25\n",
      "Кількість Опалу: 7.5\n",
      "Загальний прибуток: 21.25 золотих\n"
     ]
    }
   ],
   "source": [
    "# Записуємо коефіцієнти цільової функції\n",
    "c = np.array([(5-4), (12-10)])\n",
    "\n",
    "# Записуємо матрицю умов (з коефіцієнтів рівнянь)\n",
    "A = np.array([\n",
    "    [4, 10],\n",
    "    [2, 1]\n",
    "])\n",
    "\n",
    "# Записуємо матрицю розвязків\n",
    "b = np.array([100, 20])\n",
    "\n",
    "# Записуємо вектор обмежень області значень (від 0, до безкінечності)\n",
    "bnd = [(0, None), (0, None)]\n",
    "\n",
    "# Знаходимо розвязки задачі\n",
    "res = linprog(-c, A_ub=A, b_ub=b, bounds=bnd)\n",
    "\n",
    "x1, x2 = res.x\n",
    "profit = -res.fun\n",
    "\n",
    "print(f\"Кількість Міфрилу: {x1}\")\n",
    "print(f\"Кількість Опалу: {x2}\")\n",
    "print(f\"Загальний прибуток: {profit} золотих\")\n",
    "\n",
    "# Домашнє завдання - зобразити точку розязку на графіку"
   ]
  }
 ],
 "metadata": {
  "kernelspec": {
   "display_name": "Python 3",
   "language": "python",
   "name": "python3"
  },
  "language_info": {
   "codemirror_mode": {
    "name": "ipython",
    "version": 3
   },
   "file_extension": ".py",
   "mimetype": "text/x-python",
   "name": "python",
   "nbconvert_exporter": "python",
   "pygments_lexer": "ipython3",
   "version": "3.10.6"
  },
  "orig_nbformat": 4
 },
 "nbformat": 4,
 "nbformat_minor": 2
}
